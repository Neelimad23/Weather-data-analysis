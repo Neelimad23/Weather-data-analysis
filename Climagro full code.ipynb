{
 "cells": [
  {
   "cell_type": "markdown",
   "metadata": {},
   "source": [
    "# ClimAgro Assignment NEELIMA DIXIT 231140014"
   ]
  },
  {
   "cell_type": "markdown",
   "metadata": {},
   "source": [
    "import netCDF4\" imports the netCDF4 library in Python, allowing access to functions and classes for working with NetCDF \n",
    "(Network Common Data Form) files, a format commonly used in atmospheric and oceanographic sciences for storing multidimensional \n",
    "scientific data."
   ]
  },
  {
   "cell_type": "code",
   "execution_count": 92,
   "metadata": {},
   "outputs": [],
   "source": [
    "import netCDF4\n",
    "import numpy as np\n",
    "import pandas as df"
   ]
  },
  {
   "cell_type": "code",
   "execution_count": 93,
   "metadata": {},
   "outputs": [],
   "source": [
    "nc_file_1992 = netCDF4.Dataset('tmax.1992.nc', mode='r')\n",
    "nc_file_1993 = netCDF4.Dataset('tmax.1993.nc', mode='r')\n",
    "nc_file_1996 = netCDF4.Dataset('tmax.1996.nc', mode='r')\n",
    "nc_file_1997 = netCDF4.Dataset('tmax.1997.nc', mode='r')\n",
    "nc_file_2000 = netCDF4.Dataset('tmax.2000.nc', mode='r')\n",
    "nc_file_2002 = netCDF4.Dataset('tmax.2002.nc', mode='r')\n",
    "nc_file_2003 = netCDF4.Dataset('tmax.2003.nc', mode='r')\n",
    "nc_file_2004 = netCDF4.Dataset('tmax.2004.nc', mode='r')"
   ]
  },
  {
   "cell_type": "markdown",
   "metadata": {},
   "source": [
    "This data resembles panel data, where it's organized as a matrix with latitudes (360) and longitudes (720) representing cross-sections for every year. In this, there are three features: latitude, longitude, and time. The total dimension of the dataset is 360 * 720 * 2924. we have data of 8 year."
   ]
  },
  {
   "cell_type": "code",
   "execution_count": 94,
   "metadata": {},
   "outputs": [
    {
     "name": "stdout",
     "output_type": "stream",
     "text": [
      "<class 'netCDF4._netCDF4.Dataset'>\n",
      "root group (NETCDF4_CLASSIC data model, file format HDF5):\n",
      "    Conventions: CF-1.0\n",
      "    version: V1.0\n",
      "    history: created 9/2016 by CAS NOAA/ESRL PSD\n",
      "    title: CPC GLOBAL TEMP V1.0\n",
      "    dataset_title: CPC GLOBAL TEMP\n",
      "    Source: ftp://ftp.cpc.ncep.noaa.gov/precip/wd52ws/global_temp/\n",
      "    References: https://www.psl.noaa.gov/data/gridded/data.cpc.globaltemp.html\n",
      "    dimensions(sizes): lat(360), lon(720), time(366)\n",
      "    variables(dimensions): float32 lat(lat), float32 lon(lon), float64 time(time), float32 tmax(time, lat, lon)\n",
      "    groups: \n"
     ]
    }
   ],
   "source": [
    "print(nc_file_1992)"
   ]
  },
  {
   "cell_type": "code",
   "execution_count": 95,
   "metadata": {},
   "outputs": [
    {
     "name": "stdout",
     "output_type": "stream",
     "text": [
      "Shape of the concatenated array: (2924, 360, 720)\n"
     ]
    }
   ],
   "source": [
    "tmax_1992 = nc_file_1992.variables['tmax']\n",
    "tmax_1993 = nc_file_1993.variables['tmax']\n",
    "tmax_1996 = nc_file_1996.variables['tmax']\n",
    "tmax_1997 = nc_file_1997.variables['tmax']\n",
    "tmax_2000 = nc_file_2000.variables['tmax']\n",
    "tmax_2002 = nc_file_2002.variables['tmax']\n",
    "tmax_2003 = nc_file_2003.variables['tmax']\n",
    "tmax_2004 = nc_file_2004.variables['tmax']\n",
    "\n",
    "\n",
    "tmax_dataset = np.concatenate((tmax_1992, tmax_1993, tmax_1996, tmax_1997, tmax_2000, tmax_2002, tmax_2003, tmax_2004), axis=0)\n",
    "\n",
    "# Print the shape of the concatenated array to verify it's 4-dimensional\n",
    "print(\"Shape of the concatenated array:\", tmax_dataset.shape)\n"
   ]
  },
  {
   "cell_type": "code",
   "execution_count": 96,
   "metadata": {},
   "outputs": [],
   "source": [
    "lat = nc_file_2004.variables['lat']\n",
    "lon = nc_file_2004.variables['lon']\n",
    "\n",
    "lat = np.array(lat)\n",
    "lon = np.array(lon)"
   ]
  },
  {
   "cell_type": "markdown",
   "metadata": {},
   "source": [
    "# Prayagraj\n",
    "The latitude and longitude of Prayagraj, also known as Allahabad, are approximately:\n",
    "\n",
    "- Latitude: 25.42° N\n",
    "- Longitude: 81.88385° E"
   ]
  },
  {
   "cell_type": "code",
   "execution_count": 97,
   "metadata": {},
   "outputs": [],
   "source": [
    "Location_lat = 25.42"
   ]
  },
  {
   "cell_type": "code",
   "execution_count": 98,
   "metadata": {},
   "outputs": [
    {
     "name": "stdout",
     "output_type": "stream",
     "text": [
      "Index of the closest value: 129\n"
     ]
    }
   ],
   "source": [
    "# Calculate the absolute differences between each element and the target value\n",
    "absolute_diff = np.abs(lat - Location_lat)\n",
    "\n",
    "# Find the index of the minimum absolute difference\n",
    "index_lat = np.argmin(absolute_diff)\n",
    "\n",
    "# Print the index of the closest value\n",
    "print(\"Index of the closest value:\", index_lat)\n"
   ]
  },
  {
   "cell_type": "code",
   "execution_count": 99,
   "metadata": {},
   "outputs": [],
   "source": [
    "Location_lon = 81.88385000"
   ]
  },
  {
   "cell_type": "code",
   "execution_count": 100,
   "metadata": {},
   "outputs": [
    {
     "name": "stdout",
     "output_type": "stream",
     "text": [
      "Index of the closest value: 163\n"
     ]
    }
   ],
   "source": [
    "# Calculate the absolute differences between each element and the target value\n",
    "absolute_diff = np.abs(lon - Location_lon)\n",
    "\n",
    "# Find the index of the minimum absolute difference\n",
    "index_lon = np.argmin(absolute_diff)\n",
    "\n",
    "# Print the index of the closest value\n",
    "print(\"Index of the closest value:\", index_lon)"
   ]
  },
  {
   "cell_type": "markdown",
   "metadata": {},
   "source": [
    "These are the locations of prayagraj district in a 360x720 matrix of latitude and longitude data "
   ]
  },
  {
   "cell_type": "markdown",
   "metadata": {},
   "source": [
    "# TASK 1.1 FOR YEAR 1992 "
   ]
  },
  {
   "cell_type": "markdown",
   "metadata": {},
   "source": [
    "QUES: Extract the daily maximum temperatures for the months of June, July, August, and\n",
    "      September for your home district during each year (1979-2021).\n"
   ]
  },
  {
   "cell_type": "code",
   "execution_count": 101,
   "metadata": {},
   "outputs": [
    {
     "name": "stdout",
     "output_type": "stream",
     "text": [
      "may days: 151\n",
      "June days: 181\n",
      "July days: 212\n",
      "August days: 243\n",
      "September days: 273\n"
     ]
    }
   ],
   "source": [
    "# Define the number of days in each month\n",
    "days_in_month = {\n",
    "    \"January\": 31,\n",
    "    \"February\": 29,\n",
    "    \"March\": 31,\n",
    "    \"April\": 30,\n",
    "    \"May\": 31,\n",
    "    \"June\": 30,\n",
    "    \"July\": 31,\n",
    "    \"August\": 31,\n",
    "    \"September\": 30,\n",
    "    \"October\": 31,\n",
    "    \"November\": 30,\n",
    "    \"December\": 31\n",
    "}\n",
    "\n",
    "# Calculate the cumulative days up to the end of each month\n",
    "cumulative_days = {}\n",
    "total_days = -1\n",
    "for month, days in days_in_month.items():\n",
    "    total_days += days\n",
    "    cumulative_days[month] = total_days\n",
    "\n",
    "# Print the day numbers for June, July, August, and September\n",
    "may_days = cumulative_days[\"May\"]\n",
    "june_days = cumulative_days[\"June\"]\n",
    "july_days = cumulative_days[\"July\"]\n",
    "august_days = cumulative_days[\"August\"]\n",
    "september_days = cumulative_days[\"September\"]\n",
    "\n",
    "print(\"may days:\", may_days)\n",
    "print(\"June days:\", june_days)\n",
    "print(\"July days:\", july_days)\n",
    "print(\"August days:\", august_days)\n",
    "print(\"September days:\", september_days)\n"
   ]
  },
  {
   "cell_type": "markdown",
   "metadata": {},
   "source": [
    "We determine the index of the last day of each month as follows: 151 corresponds to the 31st of May, 181 corresponds to the 30th of June, 212 corresponds to the 31st of July, 243 corresponds to the 31st of August, and 273 corresponds to the 30th of September. To retrieve the maximum temperature for a specific month, we utilize the syntax [start day index : end day index + 1]."
   ]
  },
  {
   "cell_type": "code",
   "execution_count": 102,
   "metadata": {},
   "outputs": [],
   "source": [
    "tmax_june = tmax_1992[152:182,129,163]\n",
    "tmax_july = tmax_1992[182:213,129,163]\n",
    "tmax_august = tmax_1992[213:244,129,163]\n",
    "tmax_sept = tmax_1992[244:274,129,163]"
   ]
  },
  {
   "cell_type": "code",
   "execution_count": 103,
   "metadata": {},
   "outputs": [
    {
     "name": "stdout",
     "output_type": "stream",
     "text": [
      "[42.75786  43.304    44.924126 37.9006   45.017277 46.415993 45.975334\n",
      " 39.78711  40.486378 35.647472 37.621136 39.851543 34.41306  39.744183\n",
      " 41.51363  40.844612 40.377037 37.934715 34.1159   37.647766 35.467262\n",
      " 36.556683 40.55814  39.200226 40.621906 38.492992 36.325333 39.675365\n",
      " 42.673447 39.58085 ]\n"
     ]
    }
   ],
   "source": [
    "print(tmax_june)"
   ]
  },
  {
   "cell_type": "code",
   "execution_count": 104,
   "metadata": {},
   "outputs": [
    {
     "name": "stdout",
     "output_type": "stream",
     "text": [
      "[38.56327438354492 40.95872116088867 34.600799560546875 40.38294219970703\n",
      " 42.79317092895508 41.303932189941406 43.139305114746094\n",
      " 38.097511291503906 35.801082611083984 36.421539306640625\n",
      " 38.346195220947266 32.25922393798828 34.04000473022461 34.63505935668945\n",
      " 35.313236236572266 32.11768341064453 32.24725341796875 33.192665100097656\n",
      " 33.29170227050781 34.976619720458984 27.274986267089844\n",
      " 29.016714096069336 33.842525482177734 34.17700958251953\n",
      " 32.078739166259766 33.79004669189453 31.87641716003418 28.901058197021484\n",
      " 32.45358657836914 33.83070373535156 --]\n"
     ]
    }
   ],
   "source": [
    "print(tmax_july)"
   ]
  },
  {
   "cell_type": "code",
   "execution_count": 105,
   "metadata": {},
   "outputs": [
    {
     "name": "stdout",
     "output_type": "stream",
     "text": [
      "[28.96558  31.690416 32.163826 33.585308 34.292522 33.086216 28.503513\n",
      " 30.974766 31.030193 33.087383 34.072662 35.496826 34.11361  36.49132\n",
      " 31.951473 32.21148  33.520084 32.43468  33.552113 32.61166  33.48816\n",
      " 34.52491  35.63499  33.98177  30.006891 31.25771  32.503002 31.955757\n",
      " 30.994682 34.356827 36.41724 ]\n"
     ]
    }
   ],
   "source": [
    "print(tmax_august)"
   ]
  },
  {
   "cell_type": "code",
   "execution_count": 106,
   "metadata": {},
   "outputs": [
    {
     "name": "stdout",
     "output_type": "stream",
     "text": [
      "[34.690525 36.402184 34.712364 31.309834 32.590427 33.67145  35.101486\n",
      " 33.6088   32.808292 31.612917 32.228085 30.192312 29.582943 29.231043\n",
      " 32.708237 32.64727  32.24594  33.267548 33.762093 34.171055 33.93566\n",
      " 34.18643  34.502552 34.14984  34.948963 34.749744 35.200825 35.44663\n",
      " 33.475693 35.39666 ]\n"
     ]
    }
   ],
   "source": [
    "print(tmax_sept)"
   ]
  },
  {
   "cell_type": "markdown",
   "metadata": {},
   "source": [
    "above cells mantioned maximum temprature readings in days of that month"
   ]
  },
  {
   "cell_type": "code",
   "execution_count": 107,
   "metadata": {},
   "outputs": [
    {
     "name": "stdout",
     "output_type": "stream",
     "text": [
      "Average max temp for june: 39.847733\n"
     ]
    }
   ],
   "source": [
    "average_max_tem_june = np.mean(tmax_june)\n",
    "\n",
    "print(\"Average max temp for june:\", average_max_tem_june)"
   ]
  },
  {
   "cell_type": "code",
   "execution_count": 108,
   "metadata": {},
   "outputs": [
    {
     "name": "stdout",
     "output_type": "stream",
     "text": [
      "Average max temp for july: 34.99079182942708\n"
     ]
    }
   ],
   "source": [
    "average_max_tem_july = np.mean(tmax_july)\n",
    "\n",
    "print(\"Average max temp for july:\", average_max_tem_july)"
   ]
  },
  {
   "cell_type": "code",
   "execution_count": 109,
   "metadata": {},
   "outputs": [
    {
     "name": "stdout",
     "output_type": "stream",
     "text": [
      "Average max temp for august: 32.8696\n"
     ]
    }
   ],
   "source": [
    "average_max_tem_august = np.mean(tmax_august)\n",
    "\n",
    "print(\"Average max temp for august:\", average_max_tem_august)"
   ]
  },
  {
   "cell_type": "code",
   "execution_count": 110,
   "metadata": {},
   "outputs": [
    {
     "name": "stdout",
     "output_type": "stream",
     "text": [
      "Average max temp for september: 33.417927\n"
     ]
    }
   ],
   "source": [
    "average_max_tem_sept = np.mean(tmax_sept)\n",
    "\n",
    "print(\"Average max temp for september:\", average_max_tem_sept)"
   ]
  },
  {
   "cell_type": "markdown",
   "metadata": {},
   "source": [
    "# TASK 1.2 FOR YEAR 1992 "
   ]
  },
  {
   "cell_type": "markdown",
   "metadata": {},
   "source": [
    "QUES: Calculate the average maximum temperature for each of these summer months across all\n",
    "      years."
   ]
  },
  {
   "cell_type": "code",
   "execution_count": 111,
   "metadata": {},
   "outputs": [],
   "source": [
    "tmax_january = tmax_1992[0:31, 129, 163]\n",
    "tmax_february = tmax_1992[31:60, 129, 163]\n",
    "tmax_march = tmax_1992[60:91, 129, 163]\n",
    "tmax_april = tmax_1992[91:121, 129, 163]\n",
    "tmax_may = tmax_1992[121:152, 129, 163]\n",
    "tmax_june = tmax_1992[152:182, 129, 163]\n",
    "tmax_july = tmax_1992[182:213, 129, 163]\n",
    "tmax_august = tmax_1992[213:244, 129, 163]\n",
    "tmax_september = tmax_1992[244:274, 129, 163]\n",
    "tmax_october = tmax_1992[274:305, 129, 163]\n",
    "tmax_november = tmax_1992[305:335, 129, 163]\n",
    "tmax_december = tmax_1992[335:, 129, 163]"
   ]
  },
  {
   "cell_type": "code",
   "execution_count": 112,
   "metadata": {},
   "outputs": [
    {
     "name": "stdout",
     "output_type": "stream",
     "text": [
      "[24.22431374 26.26104927 33.75291061 39.75181961 41.06139755 39.84773254\n",
      " 34.99079183 32.86959839 33.41792679 32.5151329  28.67870903 23.94316864]\n"
     ]
    }
   ],
   "source": [
    "# Calculate the averages for each month\n",
    "avg_tmax_january = np.mean(tmax_january)\n",
    "avg_tmax_february = np.mean(tmax_february)\n",
    "avg_tmax_march = np.mean(tmax_march)\n",
    "avg_tmax_april = np.mean(tmax_april)\n",
    "avg_tmax_may = np.mean(tmax_may)\n",
    "avg_tmax_june = np.mean(tmax_june)\n",
    "avg_tmax_july = np.mean(tmax_july)\n",
    "avg_tmax_august = np.mean(tmax_august)\n",
    "avg_tmax_september = np.mean(tmax_september)\n",
    "avg_tmax_october = np.mean(tmax_october)\n",
    "avg_tmax_november = np.mean(tmax_november)\n",
    "avg_tmax_december = np.mean(tmax_december)\n",
    "\n",
    "# Store the averages in an array\n",
    "avg_tmax_monthly = np.array([avg_tmax_january, avg_tmax_february, avg_tmax_march, avg_tmax_april, avg_tmax_may, avg_tmax_june, avg_tmax_july, avg_tmax_august, avg_tmax_september, avg_tmax_october, avg_tmax_november, avg_tmax_december])\n",
    "\n",
    "print(avg_tmax_monthly)\n",
    "\n"
   ]
  },
  {
   "cell_type": "markdown",
   "metadata": {},
   "source": [
    "# TASK 1.3 FOR YEAR 1992 "
   ]
  },
  {
   "cell_type": "markdown",
   "metadata": {},
   "source": [
    "QUES: Create a separate time series plot showing the average maximum temperatures for each\n",
    "      month over the years.\n",
    "      "
   ]
  },
  {
   "cell_type": "code",
   "execution_count": 113,
   "metadata": {},
   "outputs": [
    {
     "data": {
      "image/png": "[encoded data removed]",
      "text/plain": [
       "<Figure size 1000x600 with 1 Axes>"
      ]
     },
     "metadata": {},
     "output_type": "display_data"
    }
   ],
   "source": [
    "import matplotlib.pyplot as plt\n",
    "\n",
    "# Months\n",
    "months = ['Jan', 'Feb', 'Mar', 'Apr', 'May', 'Jun', 'Jul', 'Aug', 'Sep', 'Oct', 'Nov', 'Dec']\n",
    "\n",
    "# Plot\n",
    "plt.figure(figsize=(10, 6))\n",
    "plt.plot(months, avg_tmax_monthly, marker='o', color='b', linestyle='-')\n",
    "plt.title('Monthly Average Maximum Temperature')\n",
    "plt.xlabel('Month')\n",
    "plt.ylabel('Temperature (°C)')\n",
    "plt.grid(True)\n",
    "plt.show()\n"
   ]
  },
  {
   "cell_type": "markdown",
   "metadata": {},
   "source": [
    "From the above data plot, it's evident that the average highest temperatures occur in May, while January and December emerge as the coldest months. "
   ]
  },
  {
   "cell_type": "markdown",
   "metadata": {},
   "source": [
    "# TASK 2.1 FOR YEAR 1992"
   ]
  },
  {
   "cell_type": "markdown",
   "metadata": {},
   "source": [
    "QUES: Estimate the number of hot days (days with tmax > 38°C) and the average tmax in the whole summer season (June-September)         for each year and present it with appropriate visualization.\n"
   ]
  },
  {
   "cell_type": "code",
   "execution_count": 114,
   "metadata": {},
   "outputs": [
    {
     "name": "stdout",
     "output_type": "stream",
     "text": [
      "Count of values greater than 38: 28\n"
     ]
    }
   ],
   "source": [
    "# Assuming tmax is your array\n",
    "# Count values greater than 38\n",
    "\n",
    "count_greater_than_38 = np.sum(tmax_1992[152:274, 129, 163] > 38)\n",
    "\n",
    "print(\"Count of values greater than 38:\", count_greater_than_38)\n"
   ]
  },
  {
   "cell_type": "code",
   "execution_count": 115,
   "metadata": {},
   "outputs": [
    {
     "name": "stdout",
     "output_type": "stream",
     "text": [
      "Average temperature for summer: 35.2615775116219\n"
     ]
    }
   ],
   "source": [
    "summer_days = tmax_1992[152:274, 129, 163]\n",
    "# Find the average overall\n",
    "avg_summer = np.mean(summer_days)\n",
    "\n",
    "print(\"Average temperature for summer:\", avg_summer)\n"
   ]
  },
  {
   "cell_type": "markdown",
   "metadata": {},
   "source": [
    "For year 1992 the average temprature of summer is 35.2615775116219 "
   ]
  },
  {
   "cell_type": "markdown",
   "metadata": {},
   "source": [
    "# TASK 2.2 FOR YEAR 1992"
   ]
  },
  {
   "cell_type": "code",
   "execution_count": 116,
   "metadata": {},
   "outputs": [
    {
     "name": "stdout",
     "output_type": "stream",
     "text": [
      "[20, 8, 0, 0]\n"
     ]
    }
   ],
   "source": [
    "# X = Record hot days in June, July, August, and September\n",
    "count = []\n",
    "\n",
    "# Append the count of hot days for each month to the count list\n",
    "count.append(np.sum(tmax_1992[152:182, 129, 163] > 38))  # June\n",
    "count.append(np.sum(tmax_1992[182:213, 129, 163] > 38))  # July\n",
    "count.append(np.sum(tmax_1992[213:244, 129, 163] > 38))  # August\n",
    "count.append(np.sum(tmax_1992[244:274, 129, 163] > 38))  # September\n",
    "\n",
    "print(count)"
   ]
  },
  {
   "cell_type": "code",
   "execution_count": 117,
   "metadata": {},
   "outputs": [],
   "source": [
    "tmax_summer = tmax_1992[152:274, 129, 163]"
   ]
  },
  {
   "cell_type": "code",
   "execution_count": 118,
   "metadata": {},
   "outputs": [
    {
     "name": "stdout",
     "output_type": "stream",
     "text": [
      "Indices of null values: [60]\n"
     ]
    }
   ],
   "source": [
    "import numpy as np\n",
    "\n",
    "# Assuming tmax_summer is your MaskedArray containing labeled data\n",
    "\n",
    "# Find indices of null values\n",
    "null_indices = np.where(tmax_summer.mask)[0]\n",
    "\n",
    "# Replace null values with 35\n",
    "tmax_summer[null_indices] = 35\n",
    "\n",
    "# Print the indices of null values that were replaced\n",
    "print(\"Indices of null values:\", null_indices)\n"
   ]
  },
  {
   "cell_type": "markdown",
   "metadata": {},
   "source": [
    "we observed that july month has null value in order to do liniar regresion we have to remove null value. here we replacing null value by average maximum temprature of july. which is 35. to do that frist i find index of null value which is 60 and than impute average temprature in that cell. "
   ]
  },
  {
   "cell_type": "code",
   "execution_count": 119,
   "metadata": {},
   "outputs": [
    {
     "name": "stdout",
     "output_type": "stream",
     "text": [
      "Coefficients: [-0.07106075]\n",
      "Intercept: 39.62967051227085\n"
     ]
    },
    {
     "data": {
      "image/png": "[encoded data removed]",
      "text/plain": [
       "<Figure size 640x480 with 1 Axes>"
      ]
     },
     "metadata": {},
     "output_type": "display_data"
    }
   ],
   "source": [
    "import numpy as np\n",
    "from numpy.ma import MaskedArray\n",
    "from sklearn.linear_model import LinearRegression\n",
    "import matplotlib.pyplot as plt\n",
    "\n",
    "# Create a MaskedArray for days from 1 to 122\n",
    "days = np.ma.masked_array(np.arange(1, 123))\n",
    "\n",
    "# Assuming tmax_summer is your MaskedArray containing labeled data\n",
    "\n",
    "# Create a linear regression model\n",
    "model = LinearRegression()\n",
    "\n",
    "# Fit the model using days and tmax_summer\n",
    "model.fit(days.reshape(-1, 1), tmax_summer)\n",
    "\n",
    "# Predict the labels using the trained model\n",
    "predictions = model.predict(days.reshape(-1, 1))\n",
    "\n",
    "# Print coefficients and intercept\n",
    "print(\"Coefficients:\", coefficients)\n",
    "print(\"Intercept:\", intercept)\n",
    "\n",
    "# Plot the original data points\n",
    "plt.scatter(days, tmax_summer, color='blue', label='Original data')\n",
    "\n",
    "# Plot the regression line\n",
    "plt.plot(days, predictions, color='red', label='Regression line')\n",
    "\n",
    "# Add labels and legend\n",
    "plt.xlabel('Days')\n",
    "plt.ylabel('Temperature')\n",
    "plt.title('Linear Regression on Temperature Data')\n",
    "plt.legend()\n",
    "\n",
    "# Show plot\n",
    "plt.show()\n"
   ]
  },
  {
   "cell_type": "markdown",
   "metadata": {},
   "source": [
    "I generated a separate array representing summer days from 1 to 122 and utilized linear regression to model the relationship between the temperature (tmax_summer) and the corresponding days. This approach allowed me to capture the linear trend in temperature changes throughout the summer period. also we observe decreasing in tempratute as we move from june to september. "
   ]
  },
  {
   "cell_type": "code",
   "execution_count": 120,
   "metadata": {},
   "outputs": [
    {
     "name": "stdout",
     "output_type": "stream",
     "text": [
      "[39.847733, 34.99079182942708, 32.8696, 33.417927]\n"
     ]
    }
   ],
   "source": [
    "# Y = Record avg temp in june,july,august and september\n",
    "average_tmax = []\n",
    "average_tmax.append(np.mean(tmax_june))\n",
    "average_tmax.append(np.mean(tmax_july))\n",
    "average_tmax.append(np.mean(tmax_august))\n",
    "average_tmax.append(np.mean(tmax_september))\n",
    "\n",
    "print(average_tmax)"
   ]
  },
  {
   "cell_type": "markdown",
   "metadata": {},
   "source": [
    "average maximum temprature of summar months june,july,august and september."
   ]
  },
  {
   "cell_type": "markdown",
   "metadata": {},
   "source": [
    "# TASK 2.3 FOR YEAR 1992"
   ]
  },
  {
   "cell_type": "markdown",
   "metadata": {},
   "source": [
    "QUES: Plot a boxplot to visualize the distribution of maximum temperatures for each summer month."
   ]
  },
  {
   "cell_type": "code",
   "execution_count": 121,
   "metadata": {},
   "outputs": [],
   "source": [
    "tmax_july = np.ma.array(tmax_july)\n",
    "tmax_july = np.ma.concatenate([tmax_july[:30], tmax_july[31:]])"
   ]
  },
  {
   "cell_type": "markdown",
   "metadata": {},
   "source": [
    "july month had NAN value(null value) to visualize data using box plot i removed null vlues so that box plot gives meaning full visulization."
   ]
  },
  {
   "cell_type": "code",
   "execution_count": 122,
   "metadata": {},
   "outputs": [
    {
     "data": {
      "image/png": "[encoded data removed]",
      "text/plain": [
       "<Figure size 1000x600 with 1 Axes>"
      ]
     },
     "metadata": {},
     "output_type": "display_data"
    }
   ],
   "source": [
    "import matplotlib.pyplot as plt\n",
    "\n",
    "# Create a list of data arrays\n",
    "data = [tmax_june, tmax_july, tmax_august, tmax_september]\n",
    "\n",
    "# Create a boxplot for each array\n",
    "plt.figure(figsize=(10, 6))\n",
    "plt.boxplot(data, labels=['June', 'July', 'August', 'September'])\n",
    "plt.title('Box Plot of Maximum Temperatures')\n",
    "plt.xlabel('Month')\n",
    "plt.ylabel('Temperature (°C)')\n",
    "plt.grid(True)\n",
    "plt.show()"
   ]
  },
  {
   "cell_type": "markdown",
   "metadata": {},
   "source": [
    "Analyzing the box plot reveals that temperature exhibits the more variation in July, which could be attributed to the rainy season. Furthermore, September appears to contain outliers, indicating potential errors in measurement."
   ]
  },
  {
   "cell_type": "markdown",
   "metadata": {},
   "source": [
    "# TASK 2.4 FOR YEAR 1992"
   ]
  },
  {
   "cell_type": "markdown",
   "metadata": {},
   "source": [
    "INSIGHT:\n",
    "    \n",
    "1. In summar months 28 days have greater temprature than 38 degree.\n",
    "2. For year 1992 the average temprature of summer is 35.2615775116219 degree\n",
    "3. It's evident that the average highest temperatures occur in May, while January and December emerge as the coldest months. \n",
    "4. Analyzing the box plot reveals that temperature exhibits the more variation in July, which could be attributed to the rainy season. Furthermore, September appears to contain outliers, indicating potential errors in measurement.\n"
   ]
  },
  {
   "cell_type": "code",
   "execution_count": null,
   "metadata": {},
   "outputs": [],
   "source": []
  }
 ],
 "metadata": {
  "kernelspec": {
   "display_name": "Python 3 (ipykernel)",
   "language": "python",
   "name": "python3"
  },
  "language_info": {
   "codemirror_mode": {
    "name": "ipython",
    "version": 3
   },
   "file_extension": ".py",
   "mimetype": "text/x-python",
   "name": "python",
   "nbconvert_exporter": "python",
   "pygments_lexer": "ipython3",
   "version": "3.11.4"
  }
 },
 "nbformat": 4,
 "nbformat_minor": 2
}
